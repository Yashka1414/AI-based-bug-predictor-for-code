{
  "nbformat": 4,
  "nbformat_minor": 0,
  "metadata": {
    "colab": {
      "provenance": [],
      "toc_visible": true,
      "authorship_tag": "ABX9TyMfshMbKPG2a655GigirhMr",
      "include_colab_link": true
    },
    "kernelspec": {
      "name": "python3",
      "display_name": "Python 3"
    },
    "language_info": {
      "name": "python"
    }
  },
  "cells": [
    {
      "cell_type": "markdown",
      "metadata": {
        "id": "view-in-github",
        "colab_type": "text"
      },
      "source": [
        "<a href=\"https://colab.research.google.com/github/Yashka1414/AI-based-bug-predictor-for-code/blob/main/Copy_of_Untitled3.ipynb\" target=\"_parent\"><img src=\"https://colab.research.google.com/assets/colab-badge.svg\" alt=\"Open In Colab\"/></a>"
      ]
    },
    {
      "cell_type": "code",
      "source": [
        "# Step 1: Install libraries (only first time)\n",
        "!pip install scikit-learn pandas\n",
        "\n",
        "# Step 2: Import libraries\n",
        "import pandas as pd\n",
        "from sklearn.feature_extraction.text import CountVectorizer\n",
        "from sklearn.naive_bayes import MultinomialNB\n",
        "\n",
        "# Step 3: Create simple dataset (codes + labels)\n",
        "codes = [\n",
        "    'print(\"Hello\")',               # Clean\n",
        "    'for i in range(5): print(i)',  # Clean\n",
        "    'if x = 5: print(x)',           # Bug (syntax)\n",
        "    'while True print(\"Hi\")',       # Bug (syntax)\n",
        "    'x = [1,2,3]\\nprint(x[3])',     # Bug (index)\n",
        "    'def add(a,b): return a + b'    # Clean\n",
        "]\n",
        "\n",
        "labels = [0, 0, 1, 1, 1, 0]  # 0 = Clean, 1 = Bug\n",
        "\n",
        "# Step 4: Convert code to numbers (vectorize)\n",
        "vectorizer = CountVectorizer()\n",
        "X = vectorizer.fit_transform(codes)\n",
        "\n",
        "# Step 5: Train a simple model\n",
        "model = MultinomialNB()\n",
        "model.fit(X, labels)\n",
        "\n",
        "# Step 6: Try predicting new code\n",
        "new_code = [\n",
        "    'print(\"Test\")',\n",
        "    'if x == 10 print(\"x is 10\")'\n",
        "]\n",
        "\n",
        "new_X = vectorizer.transform(new_code)\n",
        "predictions = model.predict(new_X)\n",
        "\n",
        "# Step 7: Show results\n",
        "for code, pred in zip(new_code, predictions):\n",
        "    result = 'Bug' if pred == 1 else 'Clean'\n",
        "    print(f\"\\nCode:\\n{code}\\nPrediction: {result}\")\n"
      ],
      "metadata": {
        "colab": {
          "base_uri": "https://localhost:8080/"
        },
        "id": "nE5jfNUcQPoq",
        "outputId": "daebfc40-7cbc-437d-94e3-9762e798f918"
      },
      "execution_count": null,
      "outputs": [
        {
          "output_type": "stream",
          "name": "stdout",
          "text": [
            "Requirement already satisfied: scikit-learn in /usr/local/lib/python3.12/dist-packages (1.6.1)\n",
            "Requirement already satisfied: pandas in /usr/local/lib/python3.12/dist-packages (2.2.2)\n",
            "Requirement already satisfied: numpy>=1.19.5 in /usr/local/lib/python3.12/dist-packages (from scikit-learn) (2.0.2)\n",
            "Requirement already satisfied: scipy>=1.6.0 in /usr/local/lib/python3.12/dist-packages (from scikit-learn) (1.16.1)\n",
            "Requirement already satisfied: joblib>=1.2.0 in /usr/local/lib/python3.12/dist-packages (from scikit-learn) (1.5.1)\n",
            "Requirement already satisfied: threadpoolctl>=3.1.0 in /usr/local/lib/python3.12/dist-packages (from scikit-learn) (3.6.0)\n",
            "Requirement already satisfied: python-dateutil>=2.8.2 in /usr/local/lib/python3.12/dist-packages (from pandas) (2.9.0.post0)\n",
            "Requirement already satisfied: pytz>=2020.1 in /usr/local/lib/python3.12/dist-packages (from pandas) (2025.2)\n",
            "Requirement already satisfied: tzdata>=2022.7 in /usr/local/lib/python3.12/dist-packages (from pandas) (2025.2)\n",
            "Requirement already satisfied: six>=1.5 in /usr/local/lib/python3.12/dist-packages (from python-dateutil>=2.8.2->pandas) (1.17.0)\n",
            "\n",
            "Code:\n",
            "print(\"Test\")\n",
            "Prediction: Bug\n",
            "\n",
            "Code:\n",
            "if x == 10 print(\"x is 10\")\n",
            "Prediction: Bug\n"
          ]
        }
      ]
    },
    {
      "cell_type": "code",
      "source": [],
      "metadata": {
        "id": "8rXuiBs5RXsb"
      },
      "execution_count": null,
      "outputs": []
    },
    {
      "cell_type": "code",
      "source": [],
      "metadata": {
        "id": "wXXHbcZuRoaP"
      },
      "execution_count": null,
      "outputs": []
    }
  ]
}